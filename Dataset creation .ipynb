{
 "cells": [
  {
   "cell_type": "code",
   "execution_count": 1,
   "id": "e78c5734",
   "metadata": {},
   "outputs": [],
   "source": [
    "#pip install selenium"
   ]
  },
  {
   "cell_type": "code",
   "execution_count": 2,
   "id": "0f5a9c23",
   "metadata": {},
   "outputs": [],
   "source": [
    "import os\n",
    "import selenium\n",
    "from selenium import webdriver \n",
    "import base64\n",
    "import time\n",
    "import urllib.request"
   ]
  },
  {
   "cell_type": "markdown",
   "id": "df2ec61a",
   "metadata": {},
   "source": [
    "Disons qu'on veut pouvoir reconstruire le background d'une maison "
   ]
  },
  {
   "cell_type": "code",
   "execution_count": 8,
   "id": "f14e4482",
   "metadata": {},
   "outputs": [
    {
     "name": "stderr",
     "output_type": "stream",
     "text": [
      "C:\\Users\\hanna\\AppData\\Local\\Temp\\ipykernel_127140\\1362083551.py:20: DeprecationWarning: executable_path has been deprecated, please pass in a Service object\n",
      "  driver = webdriver.Chrome('C:/Users/hanna/Desktop/UNIVERSITE/M1 polytechnique/INF573_Image analysis and computer vision/Google-Image-Scraper-master/Google-Image-Scraper-master\\webdriver\\chromedriver.exe')\n"
     ]
    }
   ],
   "source": [
    "from selenium import webdriver\n",
    "from selenium.webdriver.common.keys import Keys\n",
    "import time\n",
    "\n",
    "\n",
    "keys=[\"living room\",\"salon\",\"kitchen background\",\"cuisine\",\"salle à manger\",\"pièce de vie\",\"Intérieur maison\",\"intérieur salon\"\n",
    "         ,\"chambre à coucher\",\"bedroom\",\"house corridor\",\"couloir de maison\",\"house garden\"\n",
    "         ,\"appartement\",\"appartment\",\"intérieur appartement\",\"inspiration salon\"\n",
    "         ,\"chambre parentale\",\"canapé inspiration\",\"house groundfloor\",\"Dining room\"\n",
    "         ,\"Bathroom\",\"salle de bain\",\"salle d'eau\",\"garage\",\"décoration d'intérieur\",\"sofa inspiration\"\n",
    "         ,\"closet\",\"armoire\",\"décoration salon\"\n",
    "         ,\"décoration maison\",\"art de la table\",\"scène familiale maison\", \"background appartement\",\"background living room\"\n",
    "         ,\"décoration chambre\",\"intérieur maison\",\"fond appartement\",\"rooms\",\"kids room\",\"sofa in the living room\", \"canapé appartement\"\n",
    "         ,\"idée d'intérieur appartement\",\"living room interior\",\"inspiration bathroom\",\"meuble TV\",\"image canapé salon\",\"photos salle à manger\"\n",
    "         ,\"meuble maison en situation\",\"maison du monde inspiration\",\"ikea inspiration\",\"la redoute intérieur\", \"h & m house inspiration\"\n",
    "         ,\"coussin canapé\",\"living room background\",\"idée intérieur maison\",\"modern living room\",\"décoration intérieur moderne\"]\n",
    "\n",
    "for i in range(len(keys)):\n",
    "    #print(\"lets start with the key : \", keys[i])\n",
    "    driver = webdriver.Chrome('C:/Users/hanna/Desktop/UNIVERSITE/M1 polytechnique/INF573_Image analysis and computer vision/Google-Image-Scraper-master/Google-Image-Scraper-master\\webdriver\\chromedriver.exe')\n",
    "    driver.get('https://www.google.com/') # On se rend sur la page de google\n",
    "\n",
    "    #My computer is asking for a permission so i need to accept it. \n",
    "    driver.find_element('xpath','//*[@id=\"L2AGLb\"]/div').click()\n",
    "\n",
    "    box = driver.find_element('xpath','/html/body/div[1]/div[3]/form/div[1]/div[1]/div[1]/div/div[2]/input') #code html de la barre de recherche \n",
    "    box.send_keys(keys[i]) #Le key word a chercher sur la barre de recherche\n",
    "    box.send_keys(Keys.ENTER) #Appuyer sur le bouton entrer de google\n",
    "\n",
    "    driver.find_element('xpath','//*[@id=\"hdtb-msb\"]/div[1]/div/div[2]/a').click() #On veut aller sur le google image donc on récupère la partie html du clik \n",
    "\n",
    "\n",
    "    #Will keep scrolling down the webpage until it cannot scroll no more\n",
    "    last_height = driver.execute_script('return document.body.scrollHeight')\n",
    "    while True:\n",
    "        driver.execute_script('window.scrollTo(0,document.body.scrollHeight)')\n",
    "        time.sleep(2)\n",
    "        new_height = driver.execute_script('return document.body.scrollHeight')\n",
    "        try:\n",
    "            driver.find_element('xpath','//*[@id=\"islmp\"]/div/div/div/div/div[5]/input').click()\n",
    "            time.sleep(3)\n",
    "        except:\n",
    "            pass\n",
    "        if new_height == last_height:\n",
    "            break\n",
    "        last_height = new_height\n",
    "\n",
    "    #we need to download images with a screenshot so we create a loop with the html code of google images. \n",
    "    # //*[@id=\"islrg\"]/div[1]/div[1]/a[1]/div[1]/img correspond to the first image, we only need to iterate with div[i]\n",
    "\n",
    "    for j in range(1, 1000): #Here we want to download only 10 images for example\n",
    "        try:\n",
    "            driver.find_element('xpath','//*[@id=\"islrg\"]/div[1]/div['+str(j)+']/a[1]/div[1]/img').screenshot('C:/Users/hanna/Desktop/UNIVERSITE/M1 polytechnique/INF573_Image analysis and computer vision/Project/ComputerVision_Project/Google_Scrapping/'+keys[i]+str(j)+'.png')\n",
    "            #print(keys[i]+str(j))\n",
    "            #print(\"ok\")\n",
    "        except:\n",
    "            pass\n",
    "\n",
    "    driver.close()"
   ]
  },
  {
   "cell_type": "code",
   "execution_count": null,
   "id": "f454e2bb",
   "metadata": {},
   "outputs": [],
   "source": []
  }
 ],
 "metadata": {
  "kernelspec": {
   "display_name": "Python 3 (ipykernel)",
   "language": "python",
   "name": "python3"
  },
  "language_info": {
   "codemirror_mode": {
    "name": "ipython",
    "version": 3
   },
   "file_extension": ".py",
   "mimetype": "text/x-python",
   "name": "python",
   "nbconvert_exporter": "python",
   "pygments_lexer": "ipython3",
   "version": "3.9.12"
  }
 },
 "nbformat": 4,
 "nbformat_minor": 5
}
